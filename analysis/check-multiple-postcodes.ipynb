{
 "cells": [
  {
   "cell_type": "code",
   "execution_count": 1,
   "metadata": {},
   "outputs": [],
   "source": [
    "import pandas as pd\n",
    "import geopandas as gpd"
   ]
  },
  {
   "cell_type": "code",
   "execution_count": 2,
   "metadata": {},
   "outputs": [],
   "source": [
    "df = pd.read_csv('postcode-dataout.txt', header=None, names=['suburb', 'state', 'postcode'], dtype={'suburb': str, 'state': str, 'postcode': str})\n",
    "gdf = gpd.read_file('suburb-10-vic.geojson')"
   ]
  },
  {
   "cell_type": "code",
   "execution_count": 3,
   "metadata": {},
   "outputs": [],
   "source": [
    "# Find duplicates in suburb and state\n",
    "dp = df[df.duplicated(['suburb', 'state'], keep=False)]\n",
    "dp = dp[dp['state'] == 'VIC']\n",
    "du = df[~df.duplicated(['suburb', 'state'], keep=False)]\n",
    "du = du[du['state'] == 'VIC']"
   ]
  },
  {
   "cell_type": "code",
   "execution_count": 4,
   "metadata": {},
   "outputs": [],
   "source": [
    "gdp = gdf[gdf.duplicated(['vic_loca_2'], keep=False)].sort_values('vic_loca_2')\n",
    "gdu = gdf[~gdf.duplicated(['vic_loca_2'], keep=False)].sort_values('vic_loca_2')"
   ]
  },
  {
   "cell_type": "code",
   "execution_count": 5,
   "metadata": {},
   "outputs": [],
   "source": [
    "dgu = pd.merge(gdu, du, left_on=['vic_loca_2'], right_on=['suburb'], how='left',)"
   ]
  },
  {
   "cell_type": "code",
   "execution_count": 6,
   "metadata": {},
   "outputs": [],
   "source": [
    "gdx = dgu[dgu['suburb'].isna()]"
   ]
  },
  {
   "cell_type": "code",
   "execution_count": 7,
   "metadata": {},
   "outputs": [],
   "source": [
    "dgp = pd.merge(gdp, dp, left_on=['vic_loca_2', 'vic_loca_4'], right_on=['suburb', 'postcode'], how='left')"
   ]
  },
  {
   "cell_type": "code",
   "execution_count": 8,
   "metadata": {},
   "outputs": [
    {
     "data": {
      "text/html": [
       "<div>\n",
       "<style scoped>\n",
       "    .dataframe tbody tr th:only-of-type {\n",
       "        vertical-align: middle;\n",
       "    }\n",
       "\n",
       "    .dataframe tbody tr th {\n",
       "        vertical-align: top;\n",
       "    }\n",
       "\n",
       "    .dataframe thead th {\n",
       "        text-align: right;\n",
       "    }\n",
       "</style>\n",
       "<table border=\"1\" class=\"dataframe\">\n",
       "  <thead>\n",
       "    <tr style=\"text-align: right;\">\n",
       "      <th></th>\n",
       "      <th>id</th>\n",
       "      <th>lc_ply_pid</th>\n",
       "      <th>dt_create</th>\n",
       "      <th>dt_retire</th>\n",
       "      <th>loc_pid</th>\n",
       "      <th>vic_locali</th>\n",
       "      <th>vic_loca_1</th>\n",
       "      <th>vic_loca_2</th>\n",
       "      <th>vic_loca_3</th>\n",
       "      <th>vic_loca_4</th>\n",
       "      <th>vic_loca_5</th>\n",
       "      <th>vic_loca_6</th>\n",
       "      <th>vic_loca_7</th>\n",
       "      <th>geometry</th>\n",
       "      <th>suburb</th>\n",
       "      <th>state</th>\n",
       "      <th>postcode</th>\n",
       "    </tr>\n",
       "  </thead>\n",
       "  <tbody>\n",
       "  </tbody>\n",
       "</table>\n",
       "</div>"
      ],
      "text/plain": [
       "Empty GeoDataFrame\n",
       "Columns: [id, lc_ply_pid, dt_create, dt_retire, loc_pid, vic_locali, vic_loca_1, vic_loca_2, vic_loca_3, vic_loca_4, vic_loca_5, vic_loca_6, vic_loca_7, geometry, suburb, state, postcode]\n",
       "Index: []"
      ]
     },
     "execution_count": 8,
     "metadata": {},
     "output_type": "execute_result"
    }
   ],
   "source": [
    "dgp[dgp['suburb'].isna()]"
   ]
  },
  {
   "cell_type": "code",
   "execution_count": 9,
   "metadata": {},
   "outputs": [],
   "source": [
    "# dp.groupby(['suburb', 'state'])['postcode'].apply(lambda x: ', '.join(x)).reset_index()\n",
    "# Get a list of postcode for each suburb\n",
    "dx = dp.groupby(['suburb', 'state'])['postcode'].apply(lambda x: ', '.join(x)).reset_index()"
   ]
  },
  {
   "cell_type": "code",
   "execution_count": 10,
   "metadata": {},
   "outputs": [],
   "source": [
    "dgx = pd.merge(gdx, dx, left_on=['vic_loca_2'], right_on=['suburb'], how='left')"
   ]
  },
  {
   "cell_type": "code",
   "execution_count": 11,
   "metadata": {},
   "outputs": [
    {
     "data": {
      "text/html": [
       "<div>\n",
       "<style scoped>\n",
       "    .dataframe tbody tr th:only-of-type {\n",
       "        vertical-align: middle;\n",
       "    }\n",
       "\n",
       "    .dataframe tbody tr th {\n",
       "        vertical-align: top;\n",
       "    }\n",
       "\n",
       "    .dataframe thead th {\n",
       "        text-align: right;\n",
       "    }\n",
       "</style>\n",
       "<table border=\"1\" class=\"dataframe\">\n",
       "  <thead>\n",
       "    <tr style=\"text-align: right;\">\n",
       "      <th></th>\n",
       "      <th>id</th>\n",
       "      <th>lc_ply_pid</th>\n",
       "      <th>dt_create</th>\n",
       "      <th>dt_retire</th>\n",
       "      <th>loc_pid</th>\n",
       "      <th>vic_locali</th>\n",
       "      <th>vic_loca_1</th>\n",
       "      <th>vic_loca_2</th>\n",
       "      <th>vic_loca_3</th>\n",
       "      <th>vic_loca_4</th>\n",
       "      <th>vic_loca_5</th>\n",
       "      <th>vic_loca_6</th>\n",
       "      <th>vic_loca_7</th>\n",
       "      <th>geometry</th>\n",
       "      <th>suburb_x</th>\n",
       "      <th>state_x</th>\n",
       "      <th>postcode_x</th>\n",
       "      <th>suburb_y</th>\n",
       "      <th>state_y</th>\n",
       "      <th>postcode_y</th>\n",
       "    </tr>\n",
       "  </thead>\n",
       "  <tbody>\n",
       "    <tr>\n",
       "      <th>0</th>\n",
       "      <td>ckan_af33dd8c_0534_4e18_9245_fc64440f742e.2755</td>\n",
       "      <td>10641</td>\n",
       "      <td>2017-06-02</td>\n",
       "      <td>None</td>\n",
       "      <td>VIC3010</td>\n",
       "      <td>2017-08-09</td>\n",
       "      <td>None</td>\n",
       "      <td>AINTREE</td>\n",
       "      <td>None</td>\n",
       "      <td>None</td>\n",
       "      <td>G</td>\n",
       "      <td>None</td>\n",
       "      <td>2</td>\n",
       "      <td>POLYGON ((144.68012 -37.73797, 144.67204 -37.7...</td>\n",
       "      <td>NaN</td>\n",
       "      <td>NaN</td>\n",
       "      <td>NaN</td>\n",
       "      <td>NaN</td>\n",
       "      <td>NaN</td>\n",
       "      <td>NaN</td>\n",
       "    </tr>\n",
       "    <tr>\n",
       "      <th>4</th>\n",
       "      <td>ckan_af33dd8c_0534_4e18_9245_fc64440f742e.2965</td>\n",
       "      <td>10642</td>\n",
       "      <td>2017-06-02</td>\n",
       "      <td>None</td>\n",
       "      <td>VIC3011</td>\n",
       "      <td>2017-08-09</td>\n",
       "      <td>None</td>\n",
       "      <td>BONNIE BROOK</td>\n",
       "      <td>None</td>\n",
       "      <td>None</td>\n",
       "      <td>G</td>\n",
       "      <td>None</td>\n",
       "      <td>2</td>\n",
       "      <td>POLYGON ((144.69246 -37.71659, 144.68530 -37.7...</td>\n",
       "      <td>NaN</td>\n",
       "      <td>NaN</td>\n",
       "      <td>NaN</td>\n",
       "      <td>NaN</td>\n",
       "      <td>NaN</td>\n",
       "      <td>NaN</td>\n",
       "    </tr>\n",
       "    <tr>\n",
       "      <th>6</th>\n",
       "      <td>ckan_af33dd8c_0534_4e18_9245_fc64440f742e.2888</td>\n",
       "      <td>10152</td>\n",
       "      <td>2015-09-03</td>\n",
       "      <td>None</td>\n",
       "      <td>VIC3006</td>\n",
       "      <td>2015-11-09</td>\n",
       "      <td>None</td>\n",
       "      <td>CREEK VIEW</td>\n",
       "      <td>None</td>\n",
       "      <td>None</td>\n",
       "      <td>G</td>\n",
       "      <td>None</td>\n",
       "      <td>2</td>\n",
       "      <td>POLYGON ((144.58958 -36.58349, 144.60227 -36.5...</td>\n",
       "      <td>NaN</td>\n",
       "      <td>NaN</td>\n",
       "      <td>NaN</td>\n",
       "      <td>NaN</td>\n",
       "      <td>NaN</td>\n",
       "      <td>NaN</td>\n",
       "    </tr>\n",
       "    <tr>\n",
       "      <th>19</th>\n",
       "      <td>ckan_af33dd8c_0534_4e18_9245_fc64440f742e.2725</td>\n",
       "      <td>10650</td>\n",
       "      <td>2017-06-02</td>\n",
       "      <td>None</td>\n",
       "      <td>VIC3019</td>\n",
       "      <td>2017-08-09</td>\n",
       "      <td>None</td>\n",
       "      <td>THORNHILL PARK</td>\n",
       "      <td>None</td>\n",
       "      <td>None</td>\n",
       "      <td>G</td>\n",
       "      <td>None</td>\n",
       "      <td>2</td>\n",
       "      <td>POLYGON ((144.63185 -37.74547, 144.63063 -37.7...</td>\n",
       "      <td>NaN</td>\n",
       "      <td>NaN</td>\n",
       "      <td>NaN</td>\n",
       "      <td>NaN</td>\n",
       "      <td>NaN</td>\n",
       "      <td>NaN</td>\n",
       "    </tr>\n",
       "  </tbody>\n",
       "</table>\n",
       "</div>"
      ],
      "text/plain": [
       "                                                id lc_ply_pid   dt_create  \\\n",
       "0   ckan_af33dd8c_0534_4e18_9245_fc64440f742e.2755      10641  2017-06-02   \n",
       "4   ckan_af33dd8c_0534_4e18_9245_fc64440f742e.2965      10642  2017-06-02   \n",
       "6   ckan_af33dd8c_0534_4e18_9245_fc64440f742e.2888      10152  2015-09-03   \n",
       "19  ckan_af33dd8c_0534_4e18_9245_fc64440f742e.2725      10650  2017-06-02   \n",
       "\n",
       "   dt_retire  loc_pid  vic_locali vic_loca_1      vic_loca_2 vic_loca_3  \\\n",
       "0       None  VIC3010  2017-08-09       None         AINTREE       None   \n",
       "4       None  VIC3011  2017-08-09       None    BONNIE BROOK       None   \n",
       "6       None  VIC3006  2015-11-09       None      CREEK VIEW       None   \n",
       "19      None  VIC3019  2017-08-09       None  THORNHILL PARK       None   \n",
       "\n",
       "   vic_loca_4 vic_loca_5 vic_loca_6 vic_loca_7  \\\n",
       "0        None          G       None          2   \n",
       "4        None          G       None          2   \n",
       "6        None          G       None          2   \n",
       "19       None          G       None          2   \n",
       "\n",
       "                                             geometry suburb_x state_x  \\\n",
       "0   POLYGON ((144.68012 -37.73797, 144.67204 -37.7...      NaN     NaN   \n",
       "4   POLYGON ((144.69246 -37.71659, 144.68530 -37.7...      NaN     NaN   \n",
       "6   POLYGON ((144.58958 -36.58349, 144.60227 -36.5...      NaN     NaN   \n",
       "19  POLYGON ((144.63185 -37.74547, 144.63063 -37.7...      NaN     NaN   \n",
       "\n",
       "   postcode_x suburb_y state_y postcode_y  \n",
       "0         NaN      NaN     NaN        NaN  \n",
       "4         NaN      NaN     NaN        NaN  \n",
       "6         NaN      NaN     NaN        NaN  \n",
       "19        NaN      NaN     NaN        NaN  "
      ]
     },
     "execution_count": 11,
     "metadata": {},
     "output_type": "execute_result"
    }
   ],
   "source": [
    "dgx[dgx['postcode_y'].isna()]"
   ]
  },
  {
   "cell_type": "code",
   "execution_count": 12,
   "metadata": {},
   "outputs": [],
   "source": [
    "# Custom postcode for suburb\n",
    "# AINTREE 3336\n",
    "# BONNIE BROOK 3335\n",
    "# CREEK VIEW 3551\n",
    "# THORNHILL PARK 3335\n",
    "df_add = pd.DataFrame({'suburb': ['AINTREE', 'BONNIE BROOK', 'CREEK VIEW', 'THORNHILL PARK'], 'state': ['VIC', 'VIC', 'VIC', 'VIC'], 'postcode': ['3336', '3335', '3551', '3335']})\n",
    "df = pd.concat([df, df_add])"
   ]
  },
  {
   "cell_type": "code",
   "execution_count": 13,
   "metadata": {},
   "outputs": [],
   "source": [
    "dfx = df.dropna(subset=['postcode']).groupby(['suburb', 'state'])['postcode'].apply(lambda x: ', '.join(x)).reset_index()\n",
    "dfx = dfx[dfx['state'] == 'VIC']\n",
    "gdfx = pd.merge(gdf, dfx, left_on='vic_loca_2', right_on='suburb', how='left')\n",
    "gdfx['vic_loca_4'].fillna(gdfx['postcode'], inplace=True)\n"
   ]
  },
  {
   "cell_type": "code",
   "execution_count": 14,
   "metadata": {},
   "outputs": [
    {
     "data": {
      "text/plain": [
       "(True, True)"
      ]
     },
     "execution_count": 14,
     "metadata": {},
     "output_type": "execute_result"
    }
   ],
   "source": [
    "gdfx['loc_pid'].is_unique, gdfx['lc_ply_pid'].is_unique"
   ]
  },
  {
   "cell_type": "code",
   "execution_count": 15,
   "metadata": {},
   "outputs": [],
   "source": [
    "gdfx['name'] = gdfx['vic_loca_2']\n",
    "gdfx['postcode'] = gdfx['vic_loca_4']\n",
    "gdfx['id'] = gdfx['loc_pid']"
   ]
  },
  {
   "cell_type": "code",
   "execution_count": 16,
   "metadata": {},
   "outputs": [],
   "source": [
    "gdfx = gdfx[['id', 'name', 'postcode', 'geometry']]"
   ]
  },
  {
   "cell_type": "code",
   "execution_count": 17,
   "metadata": {},
   "outputs": [],
   "source": [
    "gdfx.to_file('suburbs-vic.geojson', driver='GeoJSON')"
   ]
  }
 ],
 "metadata": {
  "kernelspec": {
   "display_name": "Python 3",
   "language": "python",
   "name": "python3"
  },
  "language_info": {
   "codemirror_mode": {
    "name": "ipython",
    "version": 3
   },
   "file_extension": ".py",
   "mimetype": "text/x-python",
   "name": "python",
   "nbconvert_exporter": "python",
   "pygments_lexer": "ipython3",
   "version": "3.12.0"
  }
 },
 "nbformat": 4,
 "nbformat_minor": 2
}
